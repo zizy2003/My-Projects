{
 "cells": [
  {
   "cell_type": "markdown",
   "id": "7b24cb5e-8643-4ab0-9726-dfffcf032526",
   "metadata": {},
   "source": [
    "# A/B testing dataset\n",
    "\n",
    "## Exploratory dataset analysis & cleaning the data - for future analysis \n",
    "\n",
    "---"
   ]
  },
  {
   "cell_type": "code",
   "execution_count": 19,
   "id": "0199670a-d5f2-4bf9-9078-cacd345c6289",
   "metadata": {},
   "outputs": [],
   "source": [
    "import pandas as pd\n",
    "\n",
    "df = pd.read_csv(\"ab_data.csv\")\n",
    "df2 = pd.read_csv(\"countries.csv\")"
   ]
  },
  {
   "cell_type": "code",
   "execution_count": 20,
   "id": "392266b1-54bd-4053-ad99-d3b612edfb1e",
   "metadata": {},
   "outputs": [
    {
     "name": "stdout",
     "output_type": "stream",
     "text": [
      "294478\n"
     ]
    }
   ],
   "source": [
    "print(df['user_id'].count())"
   ]
  },
  {
   "cell_type": "code",
   "execution_count": 21,
   "id": "071fdbc2-761a-414b-be60-cbdb63d943ad",
   "metadata": {},
   "outputs": [
    {
     "name": "stdout",
     "output_type": "stream",
     "text": [
      "290584\n"
     ]
    }
   ],
   "source": [
    "print(df2['user_id'].count())"
   ]
  },
  {
   "cell_type": "code",
   "execution_count": 22,
   "id": "fc9d0414-7518-4787-8ae1-4748529fd3c6",
   "metadata": {},
   "outputs": [
    {
     "data": {
      "text/plain": [
       "290584"
      ]
     },
     "execution_count": 22,
     "metadata": {},
     "output_type": "execute_result"
    }
   ],
   "source": [
    "df['user_id'].nunique()"
   ]
  },
  {
   "cell_type": "code",
   "execution_count": 23,
   "id": "d054b09b-678e-432f-8e49-7afdd059ab13",
   "metadata": {},
   "outputs": [
    {
     "data": {
      "text/plain": [
       "290584"
      ]
     },
     "execution_count": 23,
     "metadata": {},
     "output_type": "execute_result"
    }
   ],
   "source": [
    "df2['user_id'].nunique()"
   ]
  },
  {
   "cell_type": "markdown",
   "id": "47d9a917-de02-4a87-82ce-3b5f7fb336eb",
   "metadata": {},
   "source": [
    "#### **Second dataframe which contains `user_id` and `countries` has less users than first dataframe does, which tells us that the first dataframe contains duplicates that are worth getting rid of .**"
   ]
  },
  {
   "cell_type": "code",
   "execution_count": 24,
   "id": "cb7347e8-34ac-408f-b0ab-1b3163e65b9f",
   "metadata": {},
   "outputs": [
    {
     "data": {
      "text/html": [
       "<div>\n",
       "<style scoped>\n",
       "    .dataframe tbody tr th:only-of-type {\n",
       "        vertical-align: middle;\n",
       "    }\n",
       "\n",
       "    .dataframe tbody tr th {\n",
       "        vertical-align: top;\n",
       "    }\n",
       "\n",
       "    .dataframe thead th {\n",
       "        text-align: right;\n",
       "    }\n",
       "</style>\n",
       "<table border=\"1\" class=\"dataframe\">\n",
       "  <thead>\n",
       "    <tr style=\"text-align: right;\">\n",
       "      <th></th>\n",
       "      <th>user_id</th>\n",
       "      <th>timestamp</th>\n",
       "      <th>group</th>\n",
       "      <th>landing_page</th>\n",
       "      <th>converted</th>\n",
       "    </tr>\n",
       "  </thead>\n",
       "  <tbody>\n",
       "    <tr>\n",
       "      <th>0</th>\n",
       "      <td>851104</td>\n",
       "      <td>2017-01-21 22:11:48</td>\n",
       "      <td>control</td>\n",
       "      <td>old_page</td>\n",
       "      <td>0</td>\n",
       "    </tr>\n",
       "    <tr>\n",
       "      <th>1</th>\n",
       "      <td>804228</td>\n",
       "      <td>2017-01-12 08:01:45</td>\n",
       "      <td>control</td>\n",
       "      <td>old_page</td>\n",
       "      <td>0</td>\n",
       "    </tr>\n",
       "    <tr>\n",
       "      <th>2</th>\n",
       "      <td>661590</td>\n",
       "      <td>2017-01-11 16:55:06</td>\n",
       "      <td>treatment</td>\n",
       "      <td>new_page</td>\n",
       "      <td>0</td>\n",
       "    </tr>\n",
       "    <tr>\n",
       "      <th>3</th>\n",
       "      <td>853541</td>\n",
       "      <td>2017-01-08 18:28:03</td>\n",
       "      <td>treatment</td>\n",
       "      <td>new_page</td>\n",
       "      <td>0</td>\n",
       "    </tr>\n",
       "    <tr>\n",
       "      <th>4</th>\n",
       "      <td>864975</td>\n",
       "      <td>2017-01-21 01:52:26</td>\n",
       "      <td>control</td>\n",
       "      <td>old_page</td>\n",
       "      <td>1</td>\n",
       "    </tr>\n",
       "    <tr>\n",
       "      <th>...</th>\n",
       "      <td>...</td>\n",
       "      <td>...</td>\n",
       "      <td>...</td>\n",
       "      <td>...</td>\n",
       "      <td>...</td>\n",
       "    </tr>\n",
       "    <tr>\n",
       "      <th>294473</th>\n",
       "      <td>751197</td>\n",
       "      <td>2017-01-03 22:28:38</td>\n",
       "      <td>control</td>\n",
       "      <td>old_page</td>\n",
       "      <td>0</td>\n",
       "    </tr>\n",
       "    <tr>\n",
       "      <th>294474</th>\n",
       "      <td>945152</td>\n",
       "      <td>2017-01-12 00:51:57</td>\n",
       "      <td>control</td>\n",
       "      <td>old_page</td>\n",
       "      <td>0</td>\n",
       "    </tr>\n",
       "    <tr>\n",
       "      <th>294475</th>\n",
       "      <td>734608</td>\n",
       "      <td>2017-01-22 11:45:03</td>\n",
       "      <td>control</td>\n",
       "      <td>old_page</td>\n",
       "      <td>0</td>\n",
       "    </tr>\n",
       "    <tr>\n",
       "      <th>294476</th>\n",
       "      <td>697314</td>\n",
       "      <td>2017-01-15 01:20:28</td>\n",
       "      <td>control</td>\n",
       "      <td>old_page</td>\n",
       "      <td>0</td>\n",
       "    </tr>\n",
       "    <tr>\n",
       "      <th>294477</th>\n",
       "      <td>715931</td>\n",
       "      <td>2017-01-16 12:40:24</td>\n",
       "      <td>treatment</td>\n",
       "      <td>new_page</td>\n",
       "      <td>0</td>\n",
       "    </tr>\n",
       "  </tbody>\n",
       "</table>\n",
       "<p>294478 rows × 5 columns</p>\n",
       "</div>"
      ],
      "text/plain": [
       "        user_id           timestamp      group landing_page  converted\n",
       "0        851104 2017-01-21 22:11:48    control     old_page          0\n",
       "1        804228 2017-01-12 08:01:45    control     old_page          0\n",
       "2        661590 2017-01-11 16:55:06  treatment     new_page          0\n",
       "3        853541 2017-01-08 18:28:03  treatment     new_page          0\n",
       "4        864975 2017-01-21 01:52:26    control     old_page          1\n",
       "...         ...                 ...        ...          ...        ...\n",
       "294473   751197 2017-01-03 22:28:38    control     old_page          0\n",
       "294474   945152 2017-01-12 00:51:57    control     old_page          0\n",
       "294475   734608 2017-01-22 11:45:03    control     old_page          0\n",
       "294476   697314 2017-01-15 01:20:28    control     old_page          0\n",
       "294477   715931 2017-01-16 12:40:24  treatment     new_page          0\n",
       "\n",
       "[294478 rows x 5 columns]"
      ]
     },
     "execution_count": 24,
     "metadata": {},
     "output_type": "execute_result"
    }
   ],
   "source": [
    "\n",
    "df['timestamp'] = pd.to_datetime(df['timestamp']).dt.floor('s')\n",
    "df"
   ]
  },
  {
   "cell_type": "markdown",
   "id": "32e44766-457f-479a-a8a6-bfe43580d7ed",
   "metadata": {},
   "source": [
    "#### **Converting `timestamp` column into date format , since it wasn't , also round it to the seconds , to make the column look better**"
   ]
  },
  {
   "cell_type": "code",
   "execution_count": 25,
   "id": "49a05ea3-bf9b-4693-be5e-3026b438995f",
   "metadata": {},
   "outputs": [
    {
     "data": {
      "text/plain": [
       "user_id                  int64\n",
       "timestamp       datetime64[ns]\n",
       "group                   object\n",
       "landing_page            object\n",
       "converted                int64\n",
       "dtype: object"
      ]
     },
     "execution_count": 25,
     "metadata": {},
     "output_type": "execute_result"
    }
   ],
   "source": [
    "df.isna().sum()\n",
    "df2.isna().sum()\n",
    "\n",
    "df.dtypes"
   ]
  },
  {
   "cell_type": "code",
   "execution_count": 26,
   "id": "ddac0154-49d2-4fe3-a4b3-f9a8e4dfbf16",
   "metadata": {},
   "outputs": [
    {
     "data": {
      "text/plain": [
       "user_id         0\n",
       "timestamp       0\n",
       "group           0\n",
       "landing_page    0\n",
       "converted       0\n",
       "country         0\n",
       "dtype: int64"
      ]
     },
     "execution_count": 26,
     "metadata": {},
     "output_type": "execute_result"
    }
   ],
   "source": [
    "ab_glued_data = df.merge(df2, how =\"inner\" , on='user_id')\n",
    "ab_glued_data.isna().sum()"
   ]
  },
  {
   "cell_type": "markdown",
   "id": "da4dc147-9449-4c32-9fb1-3790ccf4dd62",
   "metadata": {},
   "source": [
    "#### **Merging two dataframes to get a new column in the main data frame - `\"country\"`**"
   ]
  },
  {
   "cell_type": "code",
   "execution_count": 27,
   "id": "48bc6758-c0a7-4012-a239-6bec33ec1028",
   "metadata": {},
   "outputs": [],
   "source": [
    "ab_glued_data = ab_glued_data.drop_duplicates(subset=['user_id'])"
   ]
  },
  {
   "cell_type": "code",
   "execution_count": 28,
   "id": "ed3d4bdb-c6f0-42e8-a4ec-bfec50cab292",
   "metadata": {
    "scrolled": true
   },
   "outputs": [
    {
     "data": {
      "text/plain": [
       "(290584, 6)"
      ]
     },
     "execution_count": 28,
     "metadata": {},
     "output_type": "execute_result"
    }
   ],
   "source": [
    "ab_glued_data.shape"
   ]
  },
  {
   "cell_type": "code",
   "execution_count": 29,
   "id": "9ce56c91-da49-4148-8340-95f0d1123020",
   "metadata": {
    "scrolled": true
   },
   "outputs": [
    {
     "data": {
      "text/html": [
       "<div>\n",
       "<style scoped>\n",
       "    .dataframe tbody tr th:only-of-type {\n",
       "        vertical-align: middle;\n",
       "    }\n",
       "\n",
       "    .dataframe tbody tr th {\n",
       "        vertical-align: top;\n",
       "    }\n",
       "\n",
       "    .dataframe thead th {\n",
       "        text-align: right;\n",
       "    }\n",
       "</style>\n",
       "<table border=\"1\" class=\"dataframe\">\n",
       "  <thead>\n",
       "    <tr style=\"text-align: right;\">\n",
       "      <th></th>\n",
       "      <th>user_id</th>\n",
       "      <th>timestamp</th>\n",
       "      <th>group</th>\n",
       "      <th>landing_page</th>\n",
       "      <th>converted</th>\n",
       "      <th>country</th>\n",
       "    </tr>\n",
       "  </thead>\n",
       "  <tbody>\n",
       "    <tr>\n",
       "      <th>0</th>\n",
       "      <td>851104</td>\n",
       "      <td>2017-01-21 22:11:48</td>\n",
       "      <td>control</td>\n",
       "      <td>old_page</td>\n",
       "      <td>0</td>\n",
       "      <td>US</td>\n",
       "    </tr>\n",
       "    <tr>\n",
       "      <th>1</th>\n",
       "      <td>804228</td>\n",
       "      <td>2017-01-12 08:01:45</td>\n",
       "      <td>control</td>\n",
       "      <td>old_page</td>\n",
       "      <td>0</td>\n",
       "      <td>US</td>\n",
       "    </tr>\n",
       "    <tr>\n",
       "      <th>2</th>\n",
       "      <td>661590</td>\n",
       "      <td>2017-01-11 16:55:06</td>\n",
       "      <td>treatment</td>\n",
       "      <td>new_page</td>\n",
       "      <td>0</td>\n",
       "      <td>US</td>\n",
       "    </tr>\n",
       "    <tr>\n",
       "      <th>3</th>\n",
       "      <td>853541</td>\n",
       "      <td>2017-01-08 18:28:03</td>\n",
       "      <td>treatment</td>\n",
       "      <td>new_page</td>\n",
       "      <td>0</td>\n",
       "      <td>US</td>\n",
       "    </tr>\n",
       "    <tr>\n",
       "      <th>4</th>\n",
       "      <td>864975</td>\n",
       "      <td>2017-01-21 01:52:26</td>\n",
       "      <td>control</td>\n",
       "      <td>old_page</td>\n",
       "      <td>1</td>\n",
       "      <td>US</td>\n",
       "    </tr>\n",
       "    <tr>\n",
       "      <th>...</th>\n",
       "      <td>...</td>\n",
       "      <td>...</td>\n",
       "      <td>...</td>\n",
       "      <td>...</td>\n",
       "      <td>...</td>\n",
       "      <td>...</td>\n",
       "    </tr>\n",
       "    <tr>\n",
       "      <th>294473</th>\n",
       "      <td>751197</td>\n",
       "      <td>2017-01-03 22:28:38</td>\n",
       "      <td>control</td>\n",
       "      <td>old_page</td>\n",
       "      <td>0</td>\n",
       "      <td>US</td>\n",
       "    </tr>\n",
       "    <tr>\n",
       "      <th>294474</th>\n",
       "      <td>945152</td>\n",
       "      <td>2017-01-12 00:51:57</td>\n",
       "      <td>control</td>\n",
       "      <td>old_page</td>\n",
       "      <td>0</td>\n",
       "      <td>US</td>\n",
       "    </tr>\n",
       "    <tr>\n",
       "      <th>294475</th>\n",
       "      <td>734608</td>\n",
       "      <td>2017-01-22 11:45:03</td>\n",
       "      <td>control</td>\n",
       "      <td>old_page</td>\n",
       "      <td>0</td>\n",
       "      <td>US</td>\n",
       "    </tr>\n",
       "    <tr>\n",
       "      <th>294476</th>\n",
       "      <td>697314</td>\n",
       "      <td>2017-01-15 01:20:28</td>\n",
       "      <td>control</td>\n",
       "      <td>old_page</td>\n",
       "      <td>0</td>\n",
       "      <td>US</td>\n",
       "    </tr>\n",
       "    <tr>\n",
       "      <th>294477</th>\n",
       "      <td>715931</td>\n",
       "      <td>2017-01-16 12:40:24</td>\n",
       "      <td>treatment</td>\n",
       "      <td>new_page</td>\n",
       "      <td>0</td>\n",
       "      <td>UK</td>\n",
       "    </tr>\n",
       "  </tbody>\n",
       "</table>\n",
       "<p>290584 rows × 6 columns</p>\n",
       "</div>"
      ],
      "text/plain": [
       "        user_id           timestamp      group landing_page  converted country\n",
       "0        851104 2017-01-21 22:11:48    control     old_page          0      US\n",
       "1        804228 2017-01-12 08:01:45    control     old_page          0      US\n",
       "2        661590 2017-01-11 16:55:06  treatment     new_page          0      US\n",
       "3        853541 2017-01-08 18:28:03  treatment     new_page          0      US\n",
       "4        864975 2017-01-21 01:52:26    control     old_page          1      US\n",
       "...         ...                 ...        ...          ...        ...     ...\n",
       "294473   751197 2017-01-03 22:28:38    control     old_page          0      US\n",
       "294474   945152 2017-01-12 00:51:57    control     old_page          0      US\n",
       "294475   734608 2017-01-22 11:45:03    control     old_page          0      US\n",
       "294476   697314 2017-01-15 01:20:28    control     old_page          0      US\n",
       "294477   715931 2017-01-16 12:40:24  treatment     new_page          0      UK\n",
       "\n",
       "[290584 rows x 6 columns]"
      ]
     },
     "execution_count": 29,
     "metadata": {},
     "output_type": "execute_result"
    }
   ],
   "source": [
    "ab_glued_data"
   ]
  },
  {
   "cell_type": "code",
   "execution_count": 30,
   "id": "b31c4e0d-03ec-419f-ab4e-b7620ff7ed90",
   "metadata": {},
   "outputs": [
    {
     "data": {
      "text/plain": [
       "group\n",
       "control      145232\n",
       "treatment    145352\n",
       "Name: user_id, dtype: int64"
      ]
     },
     "execution_count": 30,
     "metadata": {},
     "output_type": "execute_result"
    }
   ],
   "source": [
    "ab_glued_data.groupby(['group'])['user_id'].count()"
   ]
  },
  {
   "cell_type": "markdown",
   "id": "376e2334-6957-4219-a440-08c8c5239699",
   "metadata": {},
   "source": [
    "#### **Removing duplicates already in the merged table to save time, and do not delete them in each one. Now the groups look even, and conversion will be more accurate**"
   ]
  },
  {
   "cell_type": "code",
   "execution_count": 31,
   "id": "cbb788b0-7d93-4a64-84db-ccb432f6e8c6",
   "metadata": {},
   "outputs": [
    {
     "data": {
      "text/html": [
       "<div>\n",
       "<style scoped>\n",
       "    .dataframe tbody tr th:only-of-type {\n",
       "        vertical-align: middle;\n",
       "    }\n",
       "\n",
       "    .dataframe tbody tr th {\n",
       "        vertical-align: top;\n",
       "    }\n",
       "\n",
       "    .dataframe thead th {\n",
       "        text-align: right;\n",
       "    }\n",
       "</style>\n",
       "<table border=\"1\" class=\"dataframe\">\n",
       "  <thead>\n",
       "    <tr style=\"text-align: right;\">\n",
       "      <th>landing_page</th>\n",
       "      <th>new_page</th>\n",
       "      <th>old_page</th>\n",
       "    </tr>\n",
       "    <tr>\n",
       "      <th>group</th>\n",
       "      <th></th>\n",
       "      <th></th>\n",
       "    </tr>\n",
       "  </thead>\n",
       "  <tbody>\n",
       "    <tr>\n",
       "      <th>control</th>\n",
       "      <td>1006</td>\n",
       "      <td>144226</td>\n",
       "    </tr>\n",
       "    <tr>\n",
       "      <th>treatment</th>\n",
       "      <td>144314</td>\n",
       "      <td>1038</td>\n",
       "    </tr>\n",
       "  </tbody>\n",
       "</table>\n",
       "</div>"
      ],
      "text/plain": [
       "landing_page  new_page  old_page\n",
       "group                           \n",
       "control           1006    144226\n",
       "treatment       144314      1038"
      ]
     },
     "execution_count": 31,
     "metadata": {},
     "output_type": "execute_result"
    }
   ],
   "source": [
    "pd.crosstab(ab_glued_data['group'], ab_glued_data['landing_page'])"
   ]
  },
  {
   "cell_type": "code",
   "execution_count": 32,
   "id": "cec7954a-2eac-45b1-81d4-da140d62e3de",
   "metadata": {},
   "outputs": [
    {
     "name": "stdout",
     "output_type": "stream",
     "text": [
      "group\n",
      "control      12.03 %\n",
      "treatment    11.88 %\n",
      "Name: converted, dtype: object\n"
     ]
    }
   ],
   "source": [
    "conversion = pd.Series(ab_glued_data.groupby(['group'])['converted'].mean() * 100)\n",
    "\n",
    "print(conversion.round(2).apply(lambda x: str(x) + \" %\"))"
   ]
  },
  {
   "cell_type": "markdown",
   "id": "76b2028e-6da1-425c-a0b9-f8da9a5d9433",
   "metadata": {},
   "source": [
    "#### **Now we are comparing conversion between 2 even groups, but difference not that huge , it may be statistical , but not practical - `0.15%` it may not be worth so much effort.**"
   ]
  },
  {
   "cell_type": "markdown",
   "id": "41459f4f-9e58-467d-a10a-d37215403c01",
   "metadata": {},
   "source": [
    "---"
   ]
  },
  {
   "cell_type": "code",
   "execution_count": 35,
   "id": "c02bedd4-d83d-4d28-b3a8-73b523afff05",
   "metadata": {},
   "outputs": [],
   "source": [
    "ab_glued_data.to_csv(r\"C:\\Users\\lelik\\Desktop\\vs\\AlexIrnazarovPet_projects\\AB-testing\\final_data\\final_data.csv\", index=False)"
   ]
  },
  {
   "cell_type": "markdown",
   "id": "f23df3c9-fd2f-4a93-8450-7bcb3860e170",
   "metadata": {},
   "source": [
    "#### **Saving final `data.csv` for future SQL analysis**"
   ]
  },
  {
   "cell_type": "markdown",
   "id": "78981855-261a-4b43-8f65-c82f8be30c27",
   "metadata": {},
   "source": [
    "## Business Recommendations\n",
    "\n",
    "### Recommendation\n",
    "**Keep the old page design.** Despite development efforts on the new page, data shows the original design maintains slightly better performance.\n",
    "\n",
    "### Rationale\n",
    "1. **Performance comparison**: Old page shows 12.03% conversion vs new page's 11.88%\n",
    "2. **Sample size reliability**: With ~145,000 users per group, the measurement is stable\n",
    "3. **Practical consideration**: 0.15% difference is minimal, but even this small advantage favors the existing solution\n",
    "4. **Cost-benefit analysis**: Investment in new page development did not yield improvement - no justification for implementation costs\n",
    "\n",
    "### Next Steps\n",
    "1. **Immediate action**: Discontinue rollout of new page design\n",
    "2. **Learning opportunity**: Analyze what elements of the old page drive better conversion\n",
    "3. **Future optimization**: Use insights to design more targeted experiments focused on specific high-impact elements"
   ]
  },
  {
   "cell_type": "code",
   "execution_count": null,
   "id": "6d4998bf-1574-4d74-82ca-ed7da2fed804",
   "metadata": {},
   "outputs": [],
   "source": []
  }
 ],
 "metadata": {
  "kernelspec": {
   "display_name": "Python 3 (ipykernel)",
   "language": "python",
   "name": "python3"
  },
  "language_info": {
   "codemirror_mode": {
    "name": "ipython",
    "version": 3
   },
   "file_extension": ".py",
   "mimetype": "text/x-python",
   "name": "python",
   "nbconvert_exporter": "python",
   "pygments_lexer": "ipython3",
   "version": "3.13.0"
  }
 },
 "nbformat": 4,
 "nbformat_minor": 5
}
